{
  "cells": [
    {
      "cell_type": "markdown",
      "source": [
        "## Installing Sentence Transformer and other models/frameworks"
      ],
      "metadata": {
        "id": "PpcoqA-3l2g9"
      },
      "id": "PpcoqA-3l2g9"
    },
    {
      "cell_type": "code",
      "source": [
        "!pip install sentence_transformers"
      ],
      "metadata": {
        "id": "0tw0xe31hT59",
        "colab": {
          "base_uri": "https://localhost:8080/"
        },
        "outputId": "2f00d5d1-2d6c-4a09-f810-b2ea7d91f92d"
      },
      "id": "0tw0xe31hT59",
      "execution_count": null,
      "outputs": [
        {
          "output_type": "stream",
          "name": "stdout",
          "text": [
            "Looking in indexes: https://pypi.org/simple, https://us-python.pkg.dev/colab-wheels/public/simple/\n",
            "Requirement already satisfied: sentence_transformers in /usr/local/lib/python3.7/dist-packages (2.2.2)\n",
            "Requirement already satisfied: scipy in /usr/local/lib/python3.7/dist-packages (from sentence_transformers) (1.7.3)\n",
            "Requirement already satisfied: nltk in /usr/local/lib/python3.7/dist-packages (from sentence_transformers) (3.7)\n",
            "Requirement already satisfied: numpy in /usr/local/lib/python3.7/dist-packages (from sentence_transformers) (1.21.6)\n",
            "Requirement already satisfied: huggingface-hub>=0.4.0 in /usr/local/lib/python3.7/dist-packages (from sentence_transformers) (0.11.0)\n",
            "Requirement already satisfied: tqdm in /usr/local/lib/python3.7/dist-packages (from sentence_transformers) (4.64.1)\n",
            "Requirement already satisfied: scikit-learn in /usr/local/lib/python3.7/dist-packages (from sentence_transformers) (1.0.2)\n",
            "Requirement already satisfied: sentencepiece in /usr/local/lib/python3.7/dist-packages (from sentence_transformers) (0.1.97)\n",
            "Requirement already satisfied: torch>=1.6.0 in /usr/local/lib/python3.7/dist-packages (from sentence_transformers) (1.12.1+cu113)\n",
            "Requirement already satisfied: transformers<5.0.0,>=4.6.0 in /usr/local/lib/python3.7/dist-packages (from sentence_transformers) (4.24.0)\n",
            "Requirement already satisfied: torchvision in /usr/local/lib/python3.7/dist-packages (from sentence_transformers) (0.13.1+cu113)\n",
            "Requirement already satisfied: pyyaml>=5.1 in /usr/local/lib/python3.7/dist-packages (from huggingface-hub>=0.4.0->sentence_transformers) (6.0)\n",
            "Requirement already satisfied: importlib-metadata in /usr/local/lib/python3.7/dist-packages (from huggingface-hub>=0.4.0->sentence_transformers) (4.13.0)\n",
            "Requirement already satisfied: filelock in /usr/local/lib/python3.7/dist-packages (from huggingface-hub>=0.4.0->sentence_transformers) (3.8.0)\n",
            "Requirement already satisfied: packaging>=20.9 in /usr/local/lib/python3.7/dist-packages (from huggingface-hub>=0.4.0->sentence_transformers) (21.3)\n",
            "Requirement already satisfied: requests in /usr/local/lib/python3.7/dist-packages (from huggingface-hub>=0.4.0->sentence_transformers) (2.23.0)\n",
            "Requirement already satisfied: typing-extensions>=3.7.4.3 in /usr/local/lib/python3.7/dist-packages (from huggingface-hub>=0.4.0->sentence_transformers) (4.1.1)\n",
            "Requirement already satisfied: pyparsing!=3.0.5,>=2.0.2 in /usr/local/lib/python3.7/dist-packages (from packaging>=20.9->huggingface-hub>=0.4.0->sentence_transformers) (3.0.9)\n",
            "Requirement already satisfied: regex!=2019.12.17 in /usr/local/lib/python3.7/dist-packages (from transformers<5.0.0,>=4.6.0->sentence_transformers) (2022.6.2)\n",
            "Requirement already satisfied: tokenizers!=0.11.3,<0.14,>=0.11.1 in /usr/local/lib/python3.7/dist-packages (from transformers<5.0.0,>=4.6.0->sentence_transformers) (0.13.2)\n",
            "Requirement already satisfied: zipp>=0.5 in /usr/local/lib/python3.7/dist-packages (from importlib-metadata->huggingface-hub>=0.4.0->sentence_transformers) (3.10.0)\n",
            "Requirement already satisfied: click in /usr/local/lib/python3.7/dist-packages (from nltk->sentence_transformers) (7.1.2)\n",
            "Requirement already satisfied: joblib in /usr/local/lib/python3.7/dist-packages (from nltk->sentence_transformers) (1.2.0)\n",
            "Requirement already satisfied: certifi>=2017.4.17 in /usr/local/lib/python3.7/dist-packages (from requests->huggingface-hub>=0.4.0->sentence_transformers) (2022.9.24)\n",
            "Requirement already satisfied: idna<3,>=2.5 in /usr/local/lib/python3.7/dist-packages (from requests->huggingface-hub>=0.4.0->sentence_transformers) (2.10)\n",
            "Requirement already satisfied: urllib3!=1.25.0,!=1.25.1,<1.26,>=1.21.1 in /usr/local/lib/python3.7/dist-packages (from requests->huggingface-hub>=0.4.0->sentence_transformers) (1.24.3)\n",
            "Requirement already satisfied: chardet<4,>=3.0.2 in /usr/local/lib/python3.7/dist-packages (from requests->huggingface-hub>=0.4.0->sentence_transformers) (3.0.4)\n",
            "Requirement already satisfied: threadpoolctl>=2.0.0 in /usr/local/lib/python3.7/dist-packages (from scikit-learn->sentence_transformers) (3.1.0)\n",
            "Requirement already satisfied: pillow!=8.3.*,>=5.3.0 in /usr/local/lib/python3.7/dist-packages (from torchvision->sentence_transformers) (7.1.2)\n"
          ]
        }
      ]
    },
    {
      "cell_type": "markdown",
      "source": [
        "## Importing necessary libraries"
      ],
      "metadata": {
        "id": "WWWTQtXDl-t8"
      },
      "id": "WWWTQtXDl-t8"
    },
    {
      "cell_type": "code",
      "execution_count": null,
      "id": "e951f9be",
      "metadata": {
        "id": "e951f9be"
      },
      "outputs": [],
      "source": [
        "import pandas as pd\n",
        "import numpy as np\n",
        "import spacy\n",
        "from scipy import stats\n",
        "from sklearn import linear_model\n",
        "\n",
        "from sentence_transformers import SentenceTransformer, losses, models, util\n",
        "from sentence_transformers.evaluation import EmbeddingSimilarityEvaluator\n",
        "from sentence_transformers.readers import InputExample\n",
        "\n",
        "import torch\n",
        "from torch.utils.data import DataLoader\n",
        "\n",
        "import tarfile             # to extract tar.gz file\n",
        "from csv import QUOTE_NONE # Instructs writer objects to never quote fields\n",
        "import nltk\n",
        "from nltk.tokenize import word_tokenize\n",
        "from sklearn.pipeline import make_pipeline\n",
        "from gensim.models.doc2vec import Doc2Vec, TaggedDocument  # non-contextual embedding\n",
        "from sklearn.preprocessing import PolynomialFeatures       # for model 1\n",
        "import pickle"
      ]
    },
    {
      "cell_type": "code",
      "source": [
        "nltk.download('punkt')"
      ],
      "metadata": {
        "colab": {
          "base_uri": "https://localhost:8080/"
        },
        "id": "M5HhYopMEGjM",
        "outputId": "b711f205-b793-46b2-9cf0-2e047f8e6b13"
      },
      "id": "M5HhYopMEGjM",
      "execution_count": null,
      "outputs": [
        {
          "output_type": "stream",
          "name": "stderr",
          "text": [
            "[nltk_data] Downloading package punkt to /root/nltk_data...\n",
            "[nltk_data]   Package punkt is already up-to-date!\n"
          ]
        },
        {
          "output_type": "execute_result",
          "data": {
            "text/plain": [
              "True"
            ]
          },
          "metadata": {},
          "execution_count": 3
        }
      ]
    },
    {
      "cell_type": "markdown",
      "source": [
        "## Load dataset\n",
        "Downloaded and unziped the dataset from this link http://ixa2.si.ehu.es/stswiki/images/4/48/Stsbenchmark.tar.gz"
      ],
      "metadata": {
        "id": "H5Ch9I58mMGe"
      },
      "id": "H5Ch9I58mMGe"
    },
    {
      "cell_type": "code",
      "source": [
        "from google.colab import drive\n",
        "drive.mount('/content/gdrive')"
      ],
      "metadata": {
        "colab": {
          "base_uri": "https://localhost:8080/"
        },
        "id": "C4G2AwpWWEA9",
        "outputId": "11d52c59-8f9d-4370-c61d-f7e764bf6cd4"
      },
      "id": "C4G2AwpWWEA9",
      "execution_count": null,
      "outputs": [
        {
          "output_type": "stream",
          "name": "stdout",
          "text": [
            "Drive already mounted at /content/gdrive; to attempt to forcibly remount, call drive.mount(\"/content/gdrive\", force_remount=True).\n"
          ]
        }
      ]
    },
    {
      "cell_type": "markdown",
      "source": [
        "**(1) UNZIP THE DATASET**"
      ],
      "metadata": {
        "id": "Pb8SWe-VXkLk"
      },
      "id": "Pb8SWe-VXkLk"
    },
    {
      "cell_type": "code",
      "source": [
        "DATA_PATH = \"<specify drive path to the downloaded zipped dataset\"\n",
        "\n",
        "file = tarfile.open(DATA_PATH + 'Stsbenchmark.tar.gz')\n",
        "file.extractall(DATA_PATH) # extracting file\n",
        "file.close()"
      ],
      "metadata": {
        "id": "_2VXYLMPW5A1"
      },
      "id": "_2VXYLMPW5A1",
      "execution_count": null,
      "outputs": []
    },
    {
      "cell_type": "markdown",
      "source": [
        "**(2) Complete the code in `read_sts_csv()`.**"
      ],
      "metadata": {
        "id": "O_dXXRmeY141"
      },
      "id": "O_dXXRmeY141"
    },
    {
      "cell_type": "code",
      "source": [
        "INPUT_PATH = \"<path to unzipped folder\""
      ],
      "metadata": {
        "id": "yJx4dP_jY7e0"
      },
      "id": "yJx4dP_jY7e0",
      "execution_count": null,
      "outputs": []
    },
    {
      "cell_type": "code",
      "source": [
        "def read_sts_csv(dataset_type=\"train\", columns=['source', 'type', 'year', 'id', 'score', 'sent_a', 'sent_b']):\n",
        "  path = INPUT_PATH + \"sts-\"+ dataset_type + \".csv\"\n",
        "  \"\"\"\n",
        "  Take the input path and return the dataframe\n",
        "  \"\"\"\n",
        "  return pd.read_csv(path,sep=\"\\t\",names=columns,quoting=QUOTE_NONE)"
      ],
      "metadata": {
        "id": "2TMR0Z0DlfFf"
      },
      "id": "2TMR0Z0DlfFf",
      "execution_count": null,
      "outputs": []
    },
    {
      "cell_type": "markdown",
      "source": [
        "**(3) Create 3 dataframes one each for train, test and val and print their final shapes.**"
      ],
      "metadata": {
        "id": "zWm3p3MadIiN"
      },
      "id": "zWm3p3MadIiN"
    },
    {
      "cell_type": "code",
      "source": [
        "df_train = read_sts_csv(\"train\") # create the train dataframe\n",
        "df_dev = read_sts_csv(\"dev\")     # create the dev dataframes\n",
        "df_test = read_sts_csv(\"test\")   # create the test dataframe"
      ],
      "metadata": {
        "id": "Hm4GyNtOc2R0"
      },
      "id": "Hm4GyNtOc2R0",
      "execution_count": null,
      "outputs": []
    },
    {
      "cell_type": "code",
      "source": [
        "df_train.head()"
      ],
      "metadata": {
        "colab": {
          "base_uri": "https://localhost:8080/",
          "height": 206
        },
        "id": "EA4k1nQcdRyE",
        "outputId": "857ad575-8516-45a5-b2f8-bdc61afc0821"
      },
      "id": "EA4k1nQcdRyE",
      "execution_count": null,
      "outputs": [
        {
          "output_type": "execute_result",
          "data": {
            "text/plain": [
              "          source    type      year  id  score  \\\n",
              "0  main-captions  MSRvid  2012test   1   5.00   \n",
              "1  main-captions  MSRvid  2012test   4   3.80   \n",
              "2  main-captions  MSRvid  2012test   5   3.80   \n",
              "3  main-captions  MSRvid  2012test   6   2.60   \n",
              "4  main-captions  MSRvid  2012test   9   4.25   \n",
              "\n",
              "                                          sent_a  \\\n",
              "0                         A plane is taking off.   \n",
              "1                A man is playing a large flute.   \n",
              "2  A man is spreading shreded cheese on a pizza.   \n",
              "3                   Three men are playing chess.   \n",
              "4                    A man is playing the cello.   \n",
              "\n",
              "                                              sent_b  \n",
              "0                        An air plane is taking off.  \n",
              "1                          A man is playing a flute.  \n",
              "2  A man is spreading shredded cheese on an uncoo...  \n",
              "3                         Two men are playing chess.  \n",
              "4                 A man seated is playing the cello.  "
            ],
            "text/html": [
              "\n",
              "  <div id=\"df-74844117-b953-4e37-9e78-7e2af9208774\">\n",
              "    <div class=\"colab-df-container\">\n",
              "      <div>\n",
              "<style scoped>\n",
              "    .dataframe tbody tr th:only-of-type {\n",
              "        vertical-align: middle;\n",
              "    }\n",
              "\n",
              "    .dataframe tbody tr th {\n",
              "        vertical-align: top;\n",
              "    }\n",
              "\n",
              "    .dataframe thead th {\n",
              "        text-align: right;\n",
              "    }\n",
              "</style>\n",
              "<table border=\"1\" class=\"dataframe\">\n",
              "  <thead>\n",
              "    <tr style=\"text-align: right;\">\n",
              "      <th></th>\n",
              "      <th>source</th>\n",
              "      <th>type</th>\n",
              "      <th>year</th>\n",
              "      <th>id</th>\n",
              "      <th>score</th>\n",
              "      <th>sent_a</th>\n",
              "      <th>sent_b</th>\n",
              "    </tr>\n",
              "  </thead>\n",
              "  <tbody>\n",
              "    <tr>\n",
              "      <th>0</th>\n",
              "      <td>main-captions</td>\n",
              "      <td>MSRvid</td>\n",
              "      <td>2012test</td>\n",
              "      <td>1</td>\n",
              "      <td>5.00</td>\n",
              "      <td>A plane is taking off.</td>\n",
              "      <td>An air plane is taking off.</td>\n",
              "    </tr>\n",
              "    <tr>\n",
              "      <th>1</th>\n",
              "      <td>main-captions</td>\n",
              "      <td>MSRvid</td>\n",
              "      <td>2012test</td>\n",
              "      <td>4</td>\n",
              "      <td>3.80</td>\n",
              "      <td>A man is playing a large flute.</td>\n",
              "      <td>A man is playing a flute.</td>\n",
              "    </tr>\n",
              "    <tr>\n",
              "      <th>2</th>\n",
              "      <td>main-captions</td>\n",
              "      <td>MSRvid</td>\n",
              "      <td>2012test</td>\n",
              "      <td>5</td>\n",
              "      <td>3.80</td>\n",
              "      <td>A man is spreading shreded cheese on a pizza.</td>\n",
              "      <td>A man is spreading shredded cheese on an uncoo...</td>\n",
              "    </tr>\n",
              "    <tr>\n",
              "      <th>3</th>\n",
              "      <td>main-captions</td>\n",
              "      <td>MSRvid</td>\n",
              "      <td>2012test</td>\n",
              "      <td>6</td>\n",
              "      <td>2.60</td>\n",
              "      <td>Three men are playing chess.</td>\n",
              "      <td>Two men are playing chess.</td>\n",
              "    </tr>\n",
              "    <tr>\n",
              "      <th>4</th>\n",
              "      <td>main-captions</td>\n",
              "      <td>MSRvid</td>\n",
              "      <td>2012test</td>\n",
              "      <td>9</td>\n",
              "      <td>4.25</td>\n",
              "      <td>A man is playing the cello.</td>\n",
              "      <td>A man seated is playing the cello.</td>\n",
              "    </tr>\n",
              "  </tbody>\n",
              "</table>\n",
              "</div>\n",
              "      <button class=\"colab-df-convert\" onclick=\"convertToInteractive('df-74844117-b953-4e37-9e78-7e2af9208774')\"\n",
              "              title=\"Convert this dataframe to an interactive table.\"\n",
              "              style=\"display:none;\">\n",
              "        \n",
              "  <svg xmlns=\"http://www.w3.org/2000/svg\" height=\"24px\"viewBox=\"0 0 24 24\"\n",
              "       width=\"24px\">\n",
              "    <path d=\"M0 0h24v24H0V0z\" fill=\"none\"/>\n",
              "    <path d=\"M18.56 5.44l.94 2.06.94-2.06 2.06-.94-2.06-.94-.94-2.06-.94 2.06-2.06.94zm-11 1L8.5 8.5l.94-2.06 2.06-.94-2.06-.94L8.5 2.5l-.94 2.06-2.06.94zm10 10l.94 2.06.94-2.06 2.06-.94-2.06-.94-.94-2.06-.94 2.06-2.06.94z\"/><path d=\"M17.41 7.96l-1.37-1.37c-.4-.4-.92-.59-1.43-.59-.52 0-1.04.2-1.43.59L10.3 9.45l-7.72 7.72c-.78.78-.78 2.05 0 2.83L4 21.41c.39.39.9.59 1.41.59.51 0 1.02-.2 1.41-.59l7.78-7.78 2.81-2.81c.8-.78.8-2.07 0-2.86zM5.41 20L4 18.59l7.72-7.72 1.47 1.35L5.41 20z\"/>\n",
              "  </svg>\n",
              "      </button>\n",
              "      \n",
              "  <style>\n",
              "    .colab-df-container {\n",
              "      display:flex;\n",
              "      flex-wrap:wrap;\n",
              "      gap: 12px;\n",
              "    }\n",
              "\n",
              "    .colab-df-convert {\n",
              "      background-color: #E8F0FE;\n",
              "      border: none;\n",
              "      border-radius: 50%;\n",
              "      cursor: pointer;\n",
              "      display: none;\n",
              "      fill: #1967D2;\n",
              "      height: 32px;\n",
              "      padding: 0 0 0 0;\n",
              "      width: 32px;\n",
              "    }\n",
              "\n",
              "    .colab-df-convert:hover {\n",
              "      background-color: #E2EBFA;\n",
              "      box-shadow: 0px 1px 2px rgba(60, 64, 67, 0.3), 0px 1px 3px 1px rgba(60, 64, 67, 0.15);\n",
              "      fill: #174EA6;\n",
              "    }\n",
              "\n",
              "    [theme=dark] .colab-df-convert {\n",
              "      background-color: #3B4455;\n",
              "      fill: #D2E3FC;\n",
              "    }\n",
              "\n",
              "    [theme=dark] .colab-df-convert:hover {\n",
              "      background-color: #434B5C;\n",
              "      box-shadow: 0px 1px 3px 1px rgba(0, 0, 0, 0.15);\n",
              "      filter: drop-shadow(0px 1px 2px rgba(0, 0, 0, 0.3));\n",
              "      fill: #FFFFFF;\n",
              "    }\n",
              "  </style>\n",
              "\n",
              "      <script>\n",
              "        const buttonEl =\n",
              "          document.querySelector('#df-74844117-b953-4e37-9e78-7e2af9208774 button.colab-df-convert');\n",
              "        buttonEl.style.display =\n",
              "          google.colab.kernel.accessAllowed ? 'block' : 'none';\n",
              "\n",
              "        async function convertToInteractive(key) {\n",
              "          const element = document.querySelector('#df-74844117-b953-4e37-9e78-7e2af9208774');\n",
              "          const dataTable =\n",
              "            await google.colab.kernel.invokeFunction('convertToInteractive',\n",
              "                                                     [key], {});\n",
              "          if (!dataTable) return;\n",
              "\n",
              "          const docLinkHtml = 'Like what you see? Visit the ' +\n",
              "            '<a target=\"_blank\" href=https://colab.research.google.com/notebooks/data_table.ipynb>data table notebook</a>'\n",
              "            + ' to learn more about interactive tables.';\n",
              "          element.innerHTML = '';\n",
              "          dataTable['output_type'] = 'display_data';\n",
              "          await google.colab.output.renderOutput(dataTable, element);\n",
              "          const docLink = document.createElement('div');\n",
              "          docLink.innerHTML = docLinkHtml;\n",
              "          element.appendChild(docLink);\n",
              "        }\n",
              "      </script>\n",
              "    </div>\n",
              "  </div>\n",
              "  "
            ]
          },
          "metadata": {},
          "execution_count": 9
        }
      ]
    },
    {
      "cell_type": "code",
      "source": [
        "df_dev.head()"
      ],
      "metadata": {
        "colab": {
          "base_uri": "https://localhost:8080/",
          "height": 206
        },
        "id": "GSaC6rjndUrV",
        "outputId": "d12c024a-d634-47e1-e63b-c40ecfe00e00"
      },
      "id": "GSaC6rjndUrV",
      "execution_count": null,
      "outputs": [
        {
          "output_type": "execute_result",
          "data": {
            "text/plain": [
              "          source    type      year  id  score  \\\n",
              "0  main-captions  MSRvid  2012test   0   5.00   \n",
              "1  main-captions  MSRvid  2012test   2   4.75   \n",
              "2  main-captions  MSRvid  2012test   3   5.00   \n",
              "3  main-captions  MSRvid  2012test   7   2.40   \n",
              "4  main-captions  MSRvid  2012test   8   2.75   \n",
              "\n",
              "                                 sent_a  \\\n",
              "0     A man with a hard hat is dancing.   \n",
              "1      A young child is riding a horse.   \n",
              "2  A man is feeding a mouse to a snake.   \n",
              "3        A woman is playing the guitar.   \n",
              "4         A woman is playing the flute.   \n",
              "\n",
              "                                     sent_b  \n",
              "0      A man wearing a hard hat is dancing.  \n",
              "1                A child is riding a horse.  \n",
              "2  The man is feeding a mouse to the snake.  \n",
              "3                  A man is playing guitar.  \n",
              "4                 A man is playing a flute.  "
            ],
            "text/html": [
              "\n",
              "  <div id=\"df-2bf415cc-761e-49cc-805d-da5d1b4832fe\">\n",
              "    <div class=\"colab-df-container\">\n",
              "      <div>\n",
              "<style scoped>\n",
              "    .dataframe tbody tr th:only-of-type {\n",
              "        vertical-align: middle;\n",
              "    }\n",
              "\n",
              "    .dataframe tbody tr th {\n",
              "        vertical-align: top;\n",
              "    }\n",
              "\n",
              "    .dataframe thead th {\n",
              "        text-align: right;\n",
              "    }\n",
              "</style>\n",
              "<table border=\"1\" class=\"dataframe\">\n",
              "  <thead>\n",
              "    <tr style=\"text-align: right;\">\n",
              "      <th></th>\n",
              "      <th>source</th>\n",
              "      <th>type</th>\n",
              "      <th>year</th>\n",
              "      <th>id</th>\n",
              "      <th>score</th>\n",
              "      <th>sent_a</th>\n",
              "      <th>sent_b</th>\n",
              "    </tr>\n",
              "  </thead>\n",
              "  <tbody>\n",
              "    <tr>\n",
              "      <th>0</th>\n",
              "      <td>main-captions</td>\n",
              "      <td>MSRvid</td>\n",
              "      <td>2012test</td>\n",
              "      <td>0</td>\n",
              "      <td>5.00</td>\n",
              "      <td>A man with a hard hat is dancing.</td>\n",
              "      <td>A man wearing a hard hat is dancing.</td>\n",
              "    </tr>\n",
              "    <tr>\n",
              "      <th>1</th>\n",
              "      <td>main-captions</td>\n",
              "      <td>MSRvid</td>\n",
              "      <td>2012test</td>\n",
              "      <td>2</td>\n",
              "      <td>4.75</td>\n",
              "      <td>A young child is riding a horse.</td>\n",
              "      <td>A child is riding a horse.</td>\n",
              "    </tr>\n",
              "    <tr>\n",
              "      <th>2</th>\n",
              "      <td>main-captions</td>\n",
              "      <td>MSRvid</td>\n",
              "      <td>2012test</td>\n",
              "      <td>3</td>\n",
              "      <td>5.00</td>\n",
              "      <td>A man is feeding a mouse to a snake.</td>\n",
              "      <td>The man is feeding a mouse to the snake.</td>\n",
              "    </tr>\n",
              "    <tr>\n",
              "      <th>3</th>\n",
              "      <td>main-captions</td>\n",
              "      <td>MSRvid</td>\n",
              "      <td>2012test</td>\n",
              "      <td>7</td>\n",
              "      <td>2.40</td>\n",
              "      <td>A woman is playing the guitar.</td>\n",
              "      <td>A man is playing guitar.</td>\n",
              "    </tr>\n",
              "    <tr>\n",
              "      <th>4</th>\n",
              "      <td>main-captions</td>\n",
              "      <td>MSRvid</td>\n",
              "      <td>2012test</td>\n",
              "      <td>8</td>\n",
              "      <td>2.75</td>\n",
              "      <td>A woman is playing the flute.</td>\n",
              "      <td>A man is playing a flute.</td>\n",
              "    </tr>\n",
              "  </tbody>\n",
              "</table>\n",
              "</div>\n",
              "      <button class=\"colab-df-convert\" onclick=\"convertToInteractive('df-2bf415cc-761e-49cc-805d-da5d1b4832fe')\"\n",
              "              title=\"Convert this dataframe to an interactive table.\"\n",
              "              style=\"display:none;\">\n",
              "        \n",
              "  <svg xmlns=\"http://www.w3.org/2000/svg\" height=\"24px\"viewBox=\"0 0 24 24\"\n",
              "       width=\"24px\">\n",
              "    <path d=\"M0 0h24v24H0V0z\" fill=\"none\"/>\n",
              "    <path d=\"M18.56 5.44l.94 2.06.94-2.06 2.06-.94-2.06-.94-.94-2.06-.94 2.06-2.06.94zm-11 1L8.5 8.5l.94-2.06 2.06-.94-2.06-.94L8.5 2.5l-.94 2.06-2.06.94zm10 10l.94 2.06.94-2.06 2.06-.94-2.06-.94-.94-2.06-.94 2.06-2.06.94z\"/><path d=\"M17.41 7.96l-1.37-1.37c-.4-.4-.92-.59-1.43-.59-.52 0-1.04.2-1.43.59L10.3 9.45l-7.72 7.72c-.78.78-.78 2.05 0 2.83L4 21.41c.39.39.9.59 1.41.59.51 0 1.02-.2 1.41-.59l7.78-7.78 2.81-2.81c.8-.78.8-2.07 0-2.86zM5.41 20L4 18.59l7.72-7.72 1.47 1.35L5.41 20z\"/>\n",
              "  </svg>\n",
              "      </button>\n",
              "      \n",
              "  <style>\n",
              "    .colab-df-container {\n",
              "      display:flex;\n",
              "      flex-wrap:wrap;\n",
              "      gap: 12px;\n",
              "    }\n",
              "\n",
              "    .colab-df-convert {\n",
              "      background-color: #E8F0FE;\n",
              "      border: none;\n",
              "      border-radius: 50%;\n",
              "      cursor: pointer;\n",
              "      display: none;\n",
              "      fill: #1967D2;\n",
              "      height: 32px;\n",
              "      padding: 0 0 0 0;\n",
              "      width: 32px;\n",
              "    }\n",
              "\n",
              "    .colab-df-convert:hover {\n",
              "      background-color: #E2EBFA;\n",
              "      box-shadow: 0px 1px 2px rgba(60, 64, 67, 0.3), 0px 1px 3px 1px rgba(60, 64, 67, 0.15);\n",
              "      fill: #174EA6;\n",
              "    }\n",
              "\n",
              "    [theme=dark] .colab-df-convert {\n",
              "      background-color: #3B4455;\n",
              "      fill: #D2E3FC;\n",
              "    }\n",
              "\n",
              "    [theme=dark] .colab-df-convert:hover {\n",
              "      background-color: #434B5C;\n",
              "      box-shadow: 0px 1px 3px 1px rgba(0, 0, 0, 0.15);\n",
              "      filter: drop-shadow(0px 1px 2px rgba(0, 0, 0, 0.3));\n",
              "      fill: #FFFFFF;\n",
              "    }\n",
              "  </style>\n",
              "\n",
              "      <script>\n",
              "        const buttonEl =\n",
              "          document.querySelector('#df-2bf415cc-761e-49cc-805d-da5d1b4832fe button.colab-df-convert');\n",
              "        buttonEl.style.display =\n",
              "          google.colab.kernel.accessAllowed ? 'block' : 'none';\n",
              "\n",
              "        async function convertToInteractive(key) {\n",
              "          const element = document.querySelector('#df-2bf415cc-761e-49cc-805d-da5d1b4832fe');\n",
              "          const dataTable =\n",
              "            await google.colab.kernel.invokeFunction('convertToInteractive',\n",
              "                                                     [key], {});\n",
              "          if (!dataTable) return;\n",
              "\n",
              "          const docLinkHtml = 'Like what you see? Visit the ' +\n",
              "            '<a target=\"_blank\" href=https://colab.research.google.com/notebooks/data_table.ipynb>data table notebook</a>'\n",
              "            + ' to learn more about interactive tables.';\n",
              "          element.innerHTML = '';\n",
              "          dataTable['output_type'] = 'display_data';\n",
              "          await google.colab.output.renderOutput(dataTable, element);\n",
              "          const docLink = document.createElement('div');\n",
              "          docLink.innerHTML = docLinkHtml;\n",
              "          element.appendChild(docLink);\n",
              "        }\n",
              "      </script>\n",
              "    </div>\n",
              "  </div>\n",
              "  "
            ]
          },
          "metadata": {},
          "execution_count": 10
        }
      ]
    },
    {
      "cell_type": "code",
      "source": [
        "df_test.head()"
      ],
      "metadata": {
        "colab": {
          "base_uri": "https://localhost:8080/",
          "height": 206
        },
        "id": "V0sAlmewdaYs",
        "outputId": "c72d2948-2558-4f3c-e45c-a4b8bbffb787"
      },
      "id": "V0sAlmewdaYs",
      "execution_count": null,
      "outputs": [
        {
          "output_type": "execute_result",
          "data": {
            "text/plain": [
              "          source    type      year  id  score  \\\n",
              "0  main-captions  MSRvid  2012test  24    2.5   \n",
              "1  main-captions  MSRvid  2012test  33    3.6   \n",
              "2  main-captions  MSRvid  2012test  45    5.0   \n",
              "3  main-captions  MSRvid  2012test  63    4.2   \n",
              "4  main-captions  MSRvid  2012test  66    1.5   \n",
              "\n",
              "                                          sent_a  \\\n",
              "0                    A girl is styling her hair.   \n",
              "1       A group of men play soccer on the beach.   \n",
              "2  One woman is measuring another woman's ankle.   \n",
              "3                A man is cutting up a cucumber.   \n",
              "4                       A man is playing a harp.   \n",
              "\n",
              "                                             sent_b  \n",
              "0                      A girl is brushing her hair.  \n",
              "1  A group of boys are playing soccer on the beach.  \n",
              "2           A woman measures another woman's ankle.  \n",
              "3                      A man is slicing a cucumber.  \n",
              "4                      A man is playing a keyboard.  "
            ],
            "text/html": [
              "\n",
              "  <div id=\"df-40f48bba-11e2-4d29-bed3-33cd73dccd2d\">\n",
              "    <div class=\"colab-df-container\">\n",
              "      <div>\n",
              "<style scoped>\n",
              "    .dataframe tbody tr th:only-of-type {\n",
              "        vertical-align: middle;\n",
              "    }\n",
              "\n",
              "    .dataframe tbody tr th {\n",
              "        vertical-align: top;\n",
              "    }\n",
              "\n",
              "    .dataframe thead th {\n",
              "        text-align: right;\n",
              "    }\n",
              "</style>\n",
              "<table border=\"1\" class=\"dataframe\">\n",
              "  <thead>\n",
              "    <tr style=\"text-align: right;\">\n",
              "      <th></th>\n",
              "      <th>source</th>\n",
              "      <th>type</th>\n",
              "      <th>year</th>\n",
              "      <th>id</th>\n",
              "      <th>score</th>\n",
              "      <th>sent_a</th>\n",
              "      <th>sent_b</th>\n",
              "    </tr>\n",
              "  </thead>\n",
              "  <tbody>\n",
              "    <tr>\n",
              "      <th>0</th>\n",
              "      <td>main-captions</td>\n",
              "      <td>MSRvid</td>\n",
              "      <td>2012test</td>\n",
              "      <td>24</td>\n",
              "      <td>2.5</td>\n",
              "      <td>A girl is styling her hair.</td>\n",
              "      <td>A girl is brushing her hair.</td>\n",
              "    </tr>\n",
              "    <tr>\n",
              "      <th>1</th>\n",
              "      <td>main-captions</td>\n",
              "      <td>MSRvid</td>\n",
              "      <td>2012test</td>\n",
              "      <td>33</td>\n",
              "      <td>3.6</td>\n",
              "      <td>A group of men play soccer on the beach.</td>\n",
              "      <td>A group of boys are playing soccer on the beach.</td>\n",
              "    </tr>\n",
              "    <tr>\n",
              "      <th>2</th>\n",
              "      <td>main-captions</td>\n",
              "      <td>MSRvid</td>\n",
              "      <td>2012test</td>\n",
              "      <td>45</td>\n",
              "      <td>5.0</td>\n",
              "      <td>One woman is measuring another woman's ankle.</td>\n",
              "      <td>A woman measures another woman's ankle.</td>\n",
              "    </tr>\n",
              "    <tr>\n",
              "      <th>3</th>\n",
              "      <td>main-captions</td>\n",
              "      <td>MSRvid</td>\n",
              "      <td>2012test</td>\n",
              "      <td>63</td>\n",
              "      <td>4.2</td>\n",
              "      <td>A man is cutting up a cucumber.</td>\n",
              "      <td>A man is slicing a cucumber.</td>\n",
              "    </tr>\n",
              "    <tr>\n",
              "      <th>4</th>\n",
              "      <td>main-captions</td>\n",
              "      <td>MSRvid</td>\n",
              "      <td>2012test</td>\n",
              "      <td>66</td>\n",
              "      <td>1.5</td>\n",
              "      <td>A man is playing a harp.</td>\n",
              "      <td>A man is playing a keyboard.</td>\n",
              "    </tr>\n",
              "  </tbody>\n",
              "</table>\n",
              "</div>\n",
              "      <button class=\"colab-df-convert\" onclick=\"convertToInteractive('df-40f48bba-11e2-4d29-bed3-33cd73dccd2d')\"\n",
              "              title=\"Convert this dataframe to an interactive table.\"\n",
              "              style=\"display:none;\">\n",
              "        \n",
              "  <svg xmlns=\"http://www.w3.org/2000/svg\" height=\"24px\"viewBox=\"0 0 24 24\"\n",
              "       width=\"24px\">\n",
              "    <path d=\"M0 0h24v24H0V0z\" fill=\"none\"/>\n",
              "    <path d=\"M18.56 5.44l.94 2.06.94-2.06 2.06-.94-2.06-.94-.94-2.06-.94 2.06-2.06.94zm-11 1L8.5 8.5l.94-2.06 2.06-.94-2.06-.94L8.5 2.5l-.94 2.06-2.06.94zm10 10l.94 2.06.94-2.06 2.06-.94-2.06-.94-.94-2.06-.94 2.06-2.06.94z\"/><path d=\"M17.41 7.96l-1.37-1.37c-.4-.4-.92-.59-1.43-.59-.52 0-1.04.2-1.43.59L10.3 9.45l-7.72 7.72c-.78.78-.78 2.05 0 2.83L4 21.41c.39.39.9.59 1.41.59.51 0 1.02-.2 1.41-.59l7.78-7.78 2.81-2.81c.8-.78.8-2.07 0-2.86zM5.41 20L4 18.59l7.72-7.72 1.47 1.35L5.41 20z\"/>\n",
              "  </svg>\n",
              "      </button>\n",
              "      \n",
              "  <style>\n",
              "    .colab-df-container {\n",
              "      display:flex;\n",
              "      flex-wrap:wrap;\n",
              "      gap: 12px;\n",
              "    }\n",
              "\n",
              "    .colab-df-convert {\n",
              "      background-color: #E8F0FE;\n",
              "      border: none;\n",
              "      border-radius: 50%;\n",
              "      cursor: pointer;\n",
              "      display: none;\n",
              "      fill: #1967D2;\n",
              "      height: 32px;\n",
              "      padding: 0 0 0 0;\n",
              "      width: 32px;\n",
              "    }\n",
              "\n",
              "    .colab-df-convert:hover {\n",
              "      background-color: #E2EBFA;\n",
              "      box-shadow: 0px 1px 2px rgba(60, 64, 67, 0.3), 0px 1px 3px 1px rgba(60, 64, 67, 0.15);\n",
              "      fill: #174EA6;\n",
              "    }\n",
              "\n",
              "    [theme=dark] .colab-df-convert {\n",
              "      background-color: #3B4455;\n",
              "      fill: #D2E3FC;\n",
              "    }\n",
              "\n",
              "    [theme=dark] .colab-df-convert:hover {\n",
              "      background-color: #434B5C;\n",
              "      box-shadow: 0px 1px 3px 1px rgba(0, 0, 0, 0.15);\n",
              "      filter: drop-shadow(0px 1px 2px rgba(0, 0, 0, 0.3));\n",
              "      fill: #FFFFFF;\n",
              "    }\n",
              "  </style>\n",
              "\n",
              "      <script>\n",
              "        const buttonEl =\n",
              "          document.querySelector('#df-40f48bba-11e2-4d29-bed3-33cd73dccd2d button.colab-df-convert');\n",
              "        buttonEl.style.display =\n",
              "          google.colab.kernel.accessAllowed ? 'block' : 'none';\n",
              "\n",
              "        async function convertToInteractive(key) {\n",
              "          const element = document.querySelector('#df-40f48bba-11e2-4d29-bed3-33cd73dccd2d');\n",
              "          const dataTable =\n",
              "            await google.colab.kernel.invokeFunction('convertToInteractive',\n",
              "                                                     [key], {});\n",
              "          if (!dataTable) return;\n",
              "\n",
              "          const docLinkHtml = 'Like what you see? Visit the ' +\n",
              "            '<a target=\"_blank\" href=https://colab.research.google.com/notebooks/data_table.ipynb>data table notebook</a>'\n",
              "            + ' to learn more about interactive tables.';\n",
              "          element.innerHTML = '';\n",
              "          dataTable['output_type'] = 'display_data';\n",
              "          await google.colab.output.renderOutput(dataTable, element);\n",
              "          const docLink = document.createElement('div');\n",
              "          docLink.innerHTML = docLinkHtml;\n",
              "          element.appendChild(docLink);\n",
              "        }\n",
              "      </script>\n",
              "    </div>\n",
              "  </div>\n",
              "  "
            ]
          },
          "metadata": {},
          "execution_count": 11
        }
      ]
    },
    {
      "cell_type": "markdown",
      "source": [
        "**Final shapes of all datasets**"
      ],
      "metadata": {
        "id": "bcGplnHQddbo"
      },
      "id": "bcGplnHQddbo"
    },
    {
      "cell_type": "code",
      "source": [
        "print(\"Shape of train dataset : \",df_train.shape)\n",
        "print(\"Shape of dev dataset   : \",df_dev.shape)\n",
        "print(\"Shape of test dataset  : \",df_test.shape)"
      ],
      "metadata": {
        "colab": {
          "base_uri": "https://localhost:8080/"
        },
        "id": "2p1ahjrsdcpU",
        "outputId": "1c121514-876e-47f7-f4a2-268d72d6b131"
      },
      "id": "2p1ahjrsdcpU",
      "execution_count": null,
      "outputs": [
        {
          "output_type": "stream",
          "name": "stdout",
          "text": [
            "Shape of train dataset :  (5749, 7)\n",
            "Shape of dev dataset   :  (1500, 7)\n",
            "Shape of test dataset  :  (1379, 7)\n"
          ]
        }
      ]
    },
    {
      "cell_type": "markdown",
      "source": [
        "**PATH FOR PICKLED FILES**"
      ],
      "metadata": {
        "id": "D7lC7Pfw175f"
      },
      "id": "D7lC7Pfw175f"
    },
    {
      "cell_type": "code",
      "source": [
        "PKL_PATH = \"/content/gdrive/MyDrive/Semester 3 IIITD/NLP/NLP Assignments/Assignment 03/A3a_Tarini_Simran/Pickled_Files/\""
      ],
      "metadata": {
        "id": "NKpC3vn-OwEu"
      },
      "id": "NKpC3vn-OwEu",
      "execution_count": null,
      "outputs": []
    },
    {
      "cell_type": "markdown",
      "source": [
        "## Hyperparameters"
      ],
      "metadata": {
        "id": "gO2ZkIwDmo4s"
      },
      "id": "gO2ZkIwDmo4s"
    },
    {
      "cell_type": "code",
      "source": [
        "NON_CONTEXTUAL_MODEL_TYPE = Doc2Vec\n",
        "CONTEXTUAL_MODEL_TYPE = SentenceTransformer\n",
        "HUGGING_FACE_SENTENCE_TRANSFORMER_MODEL = 'nli-roberta-base-v2'\n",
        "INPUT_PATH = \"<drive path to unzipped dataset>\"\n",
        "BATCH_SIZE = 16\n",
        "OUT_DIM_DENSE = 16\n",
        "NUM_EPOCHS = 2"
      ],
      "metadata": {
        "id": "4QurhOG7E0Z-"
      },
      "id": "4QurhOG7E0Z-",
      "execution_count": null,
      "outputs": []
    },
    {
      "cell_type": "markdown",
      "source": [
        "## CONFIGURATION 1: Non-contextual Embeddings + ML Regression\n",
        "1 Load the non-contextual embedding model\n",
        "\n",
        "2 Get features for the sentences using the embedding model loaded before\n",
        "\n",
        "2 Using features as X and score as Y, train a ML based regression model\n",
        "\n",
        "3 Print the correlation scores on the dev and test set predictions using trained model\n",
        "\n"
      ],
      "metadata": {
        "id": "KgpbPlH9nXDy"
      },
      "id": "KgpbPlH9nXDy"
    },
    {
      "cell_type": "code",
      "source": [
        "def get_feature_model1(data_frame):\n",
        "    \"\"\"\n",
        "    Input a data frame and return the embedding vectors for the each sentence column using non_cont_model1,\n",
        "    Return 2 matrices each of shape (#_samples, #size_of_word_emb).\n",
        "    \"\"\"\n",
        "\n",
        "    num_samples = data_frame.shape[0]   # number of samples\n",
        "    vec_embedding_dim = OUT_DIM_DENSE   # embedding vector dimension\n",
        "\n",
        "    matrix_a = np.zeros(shape=(num_samples,vec_embedding_dim))  # matrix 1\n",
        "    matrix_b = np.zeros(shape=(num_samples,vec_embedding_dim))  # matrix 2\n",
        "\n",
        "    sent_a = data_frame['sent_a']       # first sentence\n",
        "    sent_b = data_frame['sent_b']       # second sentence\n",
        "\n",
        "    # tokenized version of sentences\n",
        "    tokenized_sent = []\n",
        "    for sent in sent_a:\n",
        "        tokenized_sent.append(word_tokenize(sent.lower()))\n",
        "    for sent in sent_b:\n",
        "        tokenized_sent.append(word_tokenize(sent.lower()))\n",
        "\n",
        "    # necessary for Doc2Vec\n",
        "    tagged_data = [TaggedDocument(d, [i]) for i, d in enumerate(tokenized_sent)]\n",
        "    # Doc2Vec model\n",
        "    model = non_cont_model1(tagged_data, vector_size = vec_embedding_dim, window = 3, min_count = 0, epochs = 100)\n",
        "\n",
        "    # filling values for matrix\n",
        "    for idx,sent in enumerate(tokenized_sent[:num_samples]):\n",
        "        matrix_a[idx] = model.infer_vector(sent)\n",
        "\n",
        "    for idx,sent in enumerate(tokenized_sent[num_samples:]):\n",
        "        matrix_b[idx] = model.infer_vector(sent)\n",
        "\n",
        "    return matrix_a, matrix_b\n",
        "\n",
        "\n",
        "\n",
        "non_cont_model1 = NON_CONTEXTUAL_MODEL_TYPE\n",
        "\n",
        "feature_1_train, feature_2_train = get_feature_model1(df_train)\n",
        "feature_1_test, feature_2_test = get_feature_model1(df_test)\n",
        "feature_1_dev, feature_2_dev = get_feature_model1(df_dev)\n",
        "\n",
        "X_train, Y_train = np.concatenate((feature_1_train, feature_2_train), axis = 1), df_train['score']\n",
        "X_test, Y_test = np.concatenate((feature_1_test, feature_2_test), axis = 1), df_test['score']\n",
        "X_dev, Y_dev = np.concatenate((feature_1_dev, feature_2_dev), axis = 1), df_dev['score']"
      ],
      "metadata": {
        "id": "Hr7teQO9nfRR"
      },
      "id": "Hr7teQO9nfRR",
      "execution_count": null,
      "outputs": []
    },
    {
      "cell_type": "markdown",
      "source": [
        "**Saving pickle files**"
      ],
      "metadata": {
        "id": "-ul4WpAxPG3L"
      },
      "id": "-ul4WpAxPG3L"
    },
    {
      "cell_type": "code",
      "source": [
        "# TRAINING\n",
        "with open(PKL_PATH+'X_train_conf1', 'wb') as files:\n",
        "    pickle.dump(X_train, files)\n",
        "\n",
        "with open(PKL_PATH+'Y_train_conf1', 'wb') as files:\n",
        "    pickle.dump(Y_train, files)\n",
        "\n",
        "# DEVELOPMENT\n",
        "with open(PKL_PATH+'X_dev_conf1', 'wb') as files:\n",
        "    pickle.dump(X_dev, files)\n",
        "\n",
        "with open(PKL_PATH+'Y_dev_conf1', 'wb') as files:\n",
        "    pickle.dump(Y_dev, files)\n",
        "\n",
        "# TEST\n",
        "with open(PKL_PATH+'X_test_conf1', 'wb') as files:\n",
        "    pickle.dump(X_test, files)\n",
        "\n",
        "with open(PKL_PATH+'Y_test_conf1', 'wb') as files:\n",
        "    pickle.dump(Y_test, files)"
      ],
      "metadata": {
        "id": "a5F8XYgIOdH8"
      },
      "id": "a5F8XYgIOdH8",
      "execution_count": null,
      "outputs": []
    },
    {
      "cell_type": "markdown",
      "source": [
        "**Load pickle files**"
      ],
      "metadata": {
        "id": "qSQuXMmhPuw8"
      },
      "id": "qSQuXMmhPuw8"
    },
    {
      "cell_type": "code",
      "source": [
        "# TRAINING\n",
        "with open(PKL_PATH+'X_train_conf1' , 'rb') as f:\n",
        "    X_train = pickle.load(f)\n",
        "\n",
        "with open(PKL_PATH+'Y_train_conf1' , 'rb') as f:\n",
        "    Y_train = pickle.load(f)\n",
        "\n",
        "# DEVELOPMENT\n",
        "with open(PKL_PATH+'X_dev_conf1' , 'rb') as f:\n",
        "    X_dev = pickle.load(f)\n",
        "\n",
        "with open(PKL_PATH+'Y_dev_conf1' , 'rb') as f:\n",
        "    Y_dev = pickle.load(f)\n",
        "\n",
        "# TEST\n",
        "with open(PKL_PATH+'X_test_conf1' , 'rb') as f:\n",
        "    X_test = pickle.load(f)\n",
        "\n",
        "with open(PKL_PATH+'Y_test_conf1' , 'rb') as f:\n",
        "    Y_test = pickle.load(f)"
      ],
      "metadata": {
        "id": "DCbFdyb5Pw_s"
      },
      "id": "DCbFdyb5Pw_s",
      "execution_count": null,
      "outputs": []
    },
    {
      "cell_type": "markdown",
      "source": [
        "**ML Regression**"
      ],
      "metadata": {
        "id": "eTFV4_gpPLQU"
      },
      "id": "eTFV4_gpPLQU"
    },
    {
      "cell_type": "code",
      "source": [
        "# Initiate a regression model and train it\n",
        "degree = 2\n",
        "model1 = make_pipeline(PolynomialFeatures(degree),linear_model.LinearRegression()) #polynomialfeatures to increase features and capture Non-Linear Relationships to some extent\n",
        "model1.fit(X_train, Y_train)\n",
        "\n",
        "Y_train_pred = model1.predict(X_train)\n",
        "Y_test_pred = model1.predict(X_test)\n",
        "Y_dev_pred = model1.predict(X_dev)\n",
        "\n",
        "# Print spearmanr correlation on the predicted output of the dev and test sets.\n",
        "print(\"Spearmanr correlation for train set  : \", stats.spearmanr(Y_train, Y_train_pred).correlation)\n",
        "print(\"Spearmanr correlation for dev set    : \", stats.spearmanr(Y_dev, Y_dev_pred).correlation)\n",
        "print(\"Spearmanr correlation for test set   : \", stats.spearmanr(Y_test, Y_test_pred).correlation)"
      ],
      "metadata": {
        "colab": {
          "base_uri": "https://localhost:8080/"
        },
        "id": "OgEIaRCmOW2j",
        "outputId": "9ee845e5-dbd3-497a-ea3c-b50c79dbe5e2"
      },
      "id": "OgEIaRCmOW2j",
      "execution_count": null,
      "outputs": [
        {
          "output_type": "stream",
          "name": "stdout",
          "text": [
            "Spearmanr correlation for train set  :  0.5043283420520559\n",
            "Spearmanr correlation for dev set    :  0.41813180814455864\n",
            "Spearmanr correlation for test set   :  0.3041898614546014\n"
          ]
        }
      ]
    },
    {
      "cell_type": "markdown",
      "source": [
        "## CONFIGURATION 2: Contextual Embeddings + ML Regression\n",
        "1 Load the contextual embedding model\n",
        "\n",
        "2 Get feature for the sentences using the embedding model loaded before\n",
        "\n",
        "2 Using features as X and score as Y, train a ML based regression model\n",
        "\n",
        "3 Print the correlation scores on the dev and test set predictions using trained model"
      ],
      "metadata": {
        "id": "DBzjbQ-grL8H"
      },
      "id": "DBzjbQ-grL8H"
    },
    {
      "cell_type": "code",
      "source": [
        "def get_feature_model2(data_frame):\n",
        "    \"\"\"\n",
        "    Input a data frame and return the embedding vectors for the each sentence column using model2,\n",
        "    Return 2 matrices each of shape (#_samples, #size_of_word_emb).\n",
        "    \"\"\"\n",
        "\n",
        "    sent_a = data_frame['sent_a']       # first sentence\n",
        "    sent_b = data_frame['sent_b']       # second sentence\n",
        "\n",
        "    matrix_a = non_cont_model2.encode(sent_a)\n",
        "    matrix_b = non_cont_model2.encode(sent_b)\n",
        "\n",
        "    return matrix_a, matrix_b\n",
        "\n",
        "\n",
        "non_cont_model2 = CONTEXTUAL_MODEL_TYPE(HUGGING_FACE_SENTENCE_TRANSFORMER_MODEL)\n",
        "\n",
        "feature_1_train, feature_2_train = get_feature_model2(df_train)\n",
        "feature_1_test, feature_2_test = get_feature_model2(df_test)\n",
        "feature_1_dev, feature_2_dev = get_feature_model2(df_dev)\n",
        "\n",
        "X_train, Y_train = np.concatenate((feature_1_train, feature_2_train), axis = 1), df_train['score']\n",
        "X_test, Y_test = np.concatenate((feature_1_test, feature_2_test), axis = 1), df_test['score']\n",
        "X_dev, Y_dev = np.concatenate((feature_1_dev, feature_2_dev), axis = 1), df_dev['score']"
      ],
      "metadata": {
        "id": "GlTVNjv0sNP0"
      },
      "id": "GlTVNjv0sNP0",
      "execution_count": null,
      "outputs": []
    },
    {
      "cell_type": "markdown",
      "source": [
        "**Saving pickle files**"
      ],
      "metadata": {
        "id": "IpgH02UAQm6k"
      },
      "id": "IpgH02UAQm6k"
    },
    {
      "cell_type": "code",
      "source": [
        "# TRAINING\n",
        "with open(PKL_PATH+'X_train_conf2', 'wb') as files:\n",
        "    pickle.dump(X_train, files)\n",
        "\n",
        "with open(PKL_PATH+'Y_train_conf2', 'wb') as files:\n",
        "    pickle.dump(Y_train, files)\n",
        "\n",
        "# DEVELOPMENT\n",
        "with open(PKL_PATH+'X_dev_conf2', 'wb') as files:\n",
        "    pickle.dump(X_dev, files)\n",
        "\n",
        "with open(PKL_PATH+'Y_dev_conf2', 'wb') as files:\n",
        "    pickle.dump(Y_dev, files)\n",
        "\n",
        "# TEST\n",
        "with open(PKL_PATH+'X_test_conf2', 'wb') as files:\n",
        "    pickle.dump(X_test, files)\n",
        "\n",
        "with open(PKL_PATH+'Y_test_conf2', 'wb') as files:\n",
        "    pickle.dump(Y_test, files)"
      ],
      "metadata": {
        "id": "Vvu8uUIPQpo8"
      },
      "id": "Vvu8uUIPQpo8",
      "execution_count": null,
      "outputs": []
    },
    {
      "cell_type": "markdown",
      "source": [
        "**Loading pickle files**"
      ],
      "metadata": {
        "id": "roGUedKNQyOb"
      },
      "id": "roGUedKNQyOb"
    },
    {
      "cell_type": "code",
      "source": [
        "# TRAINING\n",
        "with open(PKL_PATH+'X_train_conf2' , 'rb') as f:\n",
        "    X_train = pickle.load(f)\n",
        "\n",
        "with open(PKL_PATH+'Y_train_conf2' , 'rb') as f:\n",
        "    Y_train = pickle.load(f)\n",
        "\n",
        "# DEVELOPMENT\n",
        "with open(PKL_PATH+'X_dev_conf2' , 'rb') as f:\n",
        "    X_dev = pickle.load(f)\n",
        "\n",
        "with open(PKL_PATH+'Y_dev_conf2' , 'rb') as f:\n",
        "    Y_dev = pickle.load(f)\n",
        "\n",
        "# TEST\n",
        "with open(PKL_PATH+'X_test_conf2' , 'rb') as f:\n",
        "    X_test = pickle.load(f)\n",
        "\n",
        "with open(PKL_PATH+'Y_test_conf2' , 'rb') as f:\n",
        "    Y_test = pickle.load(f)"
      ],
      "metadata": {
        "id": "EwkhN4GrQ0dz"
      },
      "id": "EwkhN4GrQ0dz",
      "execution_count": null,
      "outputs": []
    },
    {
      "cell_type": "code",
      "source": [
        "# Initiate a regression model and train it\n",
        "model2 = linear_model.BayesianRidge()\n",
        "model2.fit(X_train, Y_train)\n",
        "\n",
        "Y_train_pred = model2.predict(X_train)\n",
        "Y_test_pred = model2.predict(X_test)\n",
        "Y_dev_pred = model2.predict(X_dev)\n",
        "\n",
        "# Print spearmanr correlation on the predicted output of the dev and test sets.\n",
        "print(\"Spearmanr correlation for train set  : \", stats.spearmanr(Y_train, Y_train_pred).correlation)\n",
        "print(\"Spearmanr correlation for dev set    : \", stats.spearmanr(Y_dev, Y_dev_pred).correlation)\n",
        "print(\"Spearmanr correlation for test set   : \", stats.spearmanr(Y_test, Y_test_pred).correlation)"
      ],
      "metadata": {
        "colab": {
          "base_uri": "https://localhost:8080/"
        },
        "id": "1zLmXd6YwYlj",
        "outputId": "cb7df1b4-702e-46f3-c41a-452974461ab0"
      },
      "id": "1zLmXd6YwYlj",
      "execution_count": null,
      "outputs": [
        {
          "output_type": "stream",
          "name": "stdout",
          "text": [
            "Spearmanr correlation for train set  :  0.3915587559424884\n",
            "Spearmanr correlation for dev set    :  0.15747591992373486\n",
            "Spearmanr correlation for test set   :  0.27193815587431336\n"
          ]
        }
      ]
    },
    {
      "cell_type": "markdown",
      "source": [
        "## CONFIGURATION 3: Fine-Tune a Contextual Embeddings Model\n",
        "1 Prepare data samples to be for the DL model to consume\n",
        "\n",
        "2 Create the data loader, one each for train/dev/test data_input sample set\n",
        "\n",
        "3 Initialize model consisting of the following 3 components - `base_LM`, a `pooling_layer` and a `dense_layer`\n",
        "\n",
        "4 Define loss function\n",
        "\n",
        "5 Fit the model\n",
        "\n",
        "6 Print the correlation scores on the dev and test set predictions"
      ],
      "metadata": {
        "id": "VImljTWps_GR"
      },
      "id": "VImljTWps_GR"
    },
    {
      "cell_type": "code",
      "source": [
        "# -------------------------------------------\n",
        "# Prepare data samples to be for the DL model to consume\n",
        "# -------------------------------------------\n",
        "def form_data(data_frame):\n",
        "    \"\"\"\n",
        "    Input a data frame and return the dataloder.\n",
        "    \"\"\"\n",
        "    #1. convert to InputExample\n",
        "    dataSamples = []\n",
        "    sent1 = data_frame['sent_a']\n",
        "    sent2 = data_frame['sent_b']\n",
        "    score = data_frame['score']\n",
        "    for i in range(len(data_frame)):\n",
        "      #InputExample creates embeddings for sent1 and sent2 using model3 and uses cosine similarity to get predicted similarity\n",
        "      #Loss is simply squared difference between predicted similarity and score\n",
        "      #Need to scale score to between -1, 1\n",
        "      dataSamples.append(InputExample(texts=[sent1[i], sent2[i]], label=float(score[i])))\n",
        "\n",
        "    #2. convert to DataLoader\n",
        "    dataloader = DataLoader(dataSamples, shuffle=True, batch_size=BATCH_SIZE)\n",
        "\n",
        "    return dataloader\n",
        "\n",
        "# -------------------------------------------\n",
        "# Obtain predicted scores for input sentence pairs\n",
        "# -------------------------------------------\n",
        "def get_model_predicts(data_type, trained_model):\n",
        "    \"\"\"\n",
        "    Input the dataset list and return a list of cosine similarity scores. Use the fitted final_trainable_model for obtaining encodings.\n",
        "    \"\"\"\n",
        "\n",
        "    if data_type == \"train\":\n",
        "        df = df_train\n",
        "    elif data_type == \"dev\":\n",
        "        df = df_dev\n",
        "    elif data_type == \"test\":\n",
        "        df = df_test\n",
        "    else:\n",
        "        print(\"wrong input value for data_type\")\n",
        "        return\n",
        "\n",
        "    evaluater = EmbeddingSimilarityEvaluator(df['sent_a'], df['sent_b'], df['score'])\n",
        "    return trained_model.evaluate(evaluater)"
      ],
      "metadata": {
        "id": "0kb0xJZmZGIR"
      },
      "id": "0kb0xJZmZGIR",
      "execution_count": null,
      "outputs": []
    },
    {
      "cell_type": "code",
      "source": [
        "# -------------------------------------------\n",
        "# Create the data loader, one each for train/dev/test data_input sample set\n",
        "# -------------------------------------------\n",
        "dataloader_train = form_data(df_train)\n",
        "dataloader_dev = form_data(df_dev)\n",
        "dataloader_test = form_data(df_test)\n",
        "\n",
        "# -------------------------------------------\n",
        "# Initialize model\n",
        "# -------------------------------------------\n",
        "base_model = models.Transformer(\"sentence-transformers/\"+HUGGING_FACE_SENTENCE_TRANSFORMER_MODEL)\n",
        "layer_pooling = models.Pooling(base_model.get_word_embedding_dimension())\n",
        "layer_dense = models.Dense(in_features=layer_pooling.get_sentence_embedding_dimension(), out_features=layer_pooling.get_sentence_embedding_dimension(), activation_function=torch.nn.ReLU())\n",
        "model3 = SentenceTransformer(modules=[base_model, layer_pooling, layer_dense])\n",
        "\n",
        "# -------------------------------------------\n",
        "# Define the loss function\n",
        "# -------------------------------------------\n",
        "loss = losses.CosineSimilarityLoss(model3)\n",
        "\n",
        "# Freeze all layers of LM except last\n",
        "count = 0\n",
        "for param in base_model.parameters():\n",
        "  count += 1\n",
        "  if count<166:\n",
        "    param.requires_grad = False\n",
        "\n",
        "# -------------------------------------------\n",
        "# Fit the model\n",
        "# -------------------------------------------\n",
        "#EmbeddingSimilarityEvaluator computes embeddings for sent1 and sent2 samples according to model3 -> compares the embeddings according to a metric\n",
        "#cosine is metric used by default, others can be mse -> now we have 2 columns : predicted similarity scores and gt scores. Compute pearson &\n",
        "#spearman correlation coeff for these 2 columns to find positive/negative/no correlation between predictions and gt.\n",
        "#here we dont need to scale gt scores to -1,1 range since we are finding correlation/trend\n",
        "evaluator = EmbeddingSimilarityEvaluator(df_dev['sent_a'], df_dev['sent_b'], df_dev['score'])\n",
        "model3.fit(train_objectives=[(dataloader_train, loss)], epochs=NUM_EPOCHS, warmup_steps=25, evaluator=evaluator, evaluation_steps=300)"
      ],
      "metadata": {
        "id": "PI72kxeWN2tC"
      },
      "id": "PI72kxeWN2tC",
      "execution_count": null,
      "outputs": []
    },
    {
      "cell_type": "markdown",
      "source": [
        "**Saving pickle file for model3**"
      ],
      "metadata": {
        "id": "Cz8rZBNPN-tb"
      },
      "id": "Cz8rZBNPN-tb"
    },
    {
      "cell_type": "code",
      "source": [
        "with open(PKL_PATH+'model3', 'wb') as files:\n",
        "    pickle.dump(model3, files)"
      ],
      "metadata": {
        "id": "BCa49IOnOEKR"
      },
      "id": "BCa49IOnOEKR",
      "execution_count": null,
      "outputs": []
    },
    {
      "cell_type": "markdown",
      "source": [
        "**Loading pickle file for model3**"
      ],
      "metadata": {
        "id": "0mb6Mg3dOEbB"
      },
      "id": "0mb6Mg3dOEbB"
    },
    {
      "cell_type": "code",
      "source": [
        "with open(PKL_PATH+'model3' , 'rb') as f:\n",
        "    model3 = pickle.load(f)"
      ],
      "metadata": {
        "id": "tk5Oh7gQOHdI"
      },
      "id": "tk5Oh7gQOHdI",
      "execution_count": null,
      "outputs": []
    },
    {
      "cell_type": "markdown",
      "source": [
        "**Correlation scores**"
      ],
      "metadata": {
        "id": "klnAhtrgfRhQ"
      },
      "id": "klnAhtrgfRhQ"
    },
    {
      "cell_type": "code",
      "source": [
        "score_train = get_model_predicts(\"train\", model3)\n",
        "score_dev = get_model_predicts(\"dev\", model3)\n",
        "score_test = get_model_predicts(\"test\", model3)"
      ],
      "metadata": {
        "id": "id31uZKKfIvo"
      },
      "id": "id31uZKKfIvo",
      "execution_count": null,
      "outputs": []
    },
    {
      "cell_type": "markdown",
      "source": [
        "**Saving correlation scores**"
      ],
      "metadata": {
        "id": "03C63pGMfUnY"
      },
      "id": "03C63pGMfUnY"
    },
    {
      "cell_type": "code",
      "source": [
        "with open(PKL_PATH+'score_train_conf3', 'wb') as files:\n",
        "    pickle.dump(score_train, files)\n",
        "\n",
        "with open(PKL_PATH+'score_dev_conf3', 'wb') as files:\n",
        "    pickle.dump(score_dev, files)\n",
        "\n",
        "with open(PKL_PATH+'score_test_conf3', 'wb') as files:\n",
        "    pickle.dump(score_test, files)"
      ],
      "metadata": {
        "id": "x4dHFoLAfXUB"
      },
      "id": "x4dHFoLAfXUB",
      "execution_count": null,
      "outputs": []
    },
    {
      "cell_type": "markdown",
      "source": [
        "**Loading correlation scores**"
      ],
      "metadata": {
        "id": "vjS-XSR6fv_D"
      },
      "id": "vjS-XSR6fv_D"
    },
    {
      "cell_type": "code",
      "source": [
        "with open(PKL_PATH+'score_train_conf3' , 'rb') as f:\n",
        "    score_train = pickle.load(f)\n",
        "\n",
        "with open(PKL_PATH+'score_dev_conf3' , 'rb') as f:\n",
        "    score_dev = pickle.load(f)\n",
        "\n",
        "with open(PKL_PATH+'score_test_conf3' , 'rb') as f:\n",
        "    score_test = pickle.load(f)"
      ],
      "metadata": {
        "id": "OGT9MxPegEtL"
      },
      "id": "OGT9MxPegEtL",
      "execution_count": null,
      "outputs": []
    },
    {
      "cell_type": "markdown",
      "source": [
        "**Printing Results**"
      ],
      "metadata": {
        "id": "g55Rk8QTgFIi"
      },
      "id": "g55Rk8QTgFIi"
    },
    {
      "cell_type": "code",
      "source": [
        "# -------------------------------------------\n",
        "# Get the correlation scores on the dev and test set predictions\n",
        "# -------------------------------------------\n",
        "print(\"Spearmanr correlation for train set  : \",score_train)\n",
        "print(\"Spearmanr correlation for dev set    : \",score_dev)\n",
        "print(\"Spearmanr correlation for test set   : \",score_test)"
      ],
      "metadata": {
        "colab": {
          "base_uri": "https://localhost:8080/"
        },
        "id": "1cUfs3WjN8mG",
        "outputId": "0690ee18-392a-490d-b0a6-6a7574372149"
      },
      "id": "1cUfs3WjN8mG",
      "execution_count": null,
      "outputs": [
        {
          "output_type": "stream",
          "name": "stdout",
          "text": [
            "Spearmanr correlation for train set  :  0.8090177334258251\n",
            "Spearmanr correlation for dev set    :  0.8318641423390898\n",
            "Spearmanr correlation for test set   :  0.8155045187853697\n"
          ]
        }
      ]
    }
  ],
  "metadata": {
    "kernelspec": {
      "display_name": "Python 3 (ipykernel)",
      "language": "python",
      "name": "python3"
    },
    "language_info": {
      "codemirror_mode": {
        "name": "ipython",
        "version": 3
      },
      "file_extension": ".py",
      "mimetype": "text/x-python",
      "name": "python",
      "nbconvert_exporter": "python",
      "pygments_lexer": "ipython3",
      "version": "3.9.7"
    },
    "colab": {
      "provenance": []
    }
  },
  "nbformat": 4,
  "nbformat_minor": 5
}